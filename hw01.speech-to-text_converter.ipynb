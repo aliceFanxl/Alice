{
 "cells": [
  {
   "cell_type": "markdown",
   "metadata": {},
   "source": [
    "# Test speech convert to the text and text to voice"
   ]
  },
  {
   "cell_type": "code",
   "execution_count": 1,
   "metadata": {},
   "outputs": [
    {
     "data": {
      "text/plain": [
       "True"
      ]
     },
     "execution_count": 1,
     "metadata": {},
     "output_type": "execute_result"
    }
   ],
   "source": [
    "import azure.cognitiveservices.speech as speechsdk\n",
    "import os\n",
    "from dotenv import load_dotenv\n",
    "load_dotenv()"
   ]
  },
  {
   "cell_type": "markdown",
   "metadata": {},
   "source": [
    "get key from environment"
   ]
  },
  {
   "cell_type": "code",
   "execution_count": 2,
   "metadata": {},
   "outputs": [],
   "source": [
    "speech_key, service_region = os.getenv('SPEECH_KEY'), os.getenv('SPEECH_REGION')\n",
    "#print(speech_key)"
   ]
  },
  {
   "cell_type": "code",
   "execution_count": 5,
   "metadata": {},
   "outputs": [
    {
     "name": "stdout",
     "output_type": "stream",
     "text": [
      "<azure.cognitiveservices.speech.SpeechRecognizer object at 0x00000193EE9F2130>\n",
      "Recognizing speech from file...\n",
      "Recognized: 我喜欢跟着路易斯老师学习AI。\n",
      "我喜欢跟着路易斯老师学习AI。\n",
      "Recognizing finished\n"
     ]
    }
   ],
   "source": [
    "def convert_speech_to_text(audio_file):\n",
    "    \"\"\"测试把speech转换为text，参数为需要转换的声音文件\"\"\"\n",
    "    speech_config = speechsdk.SpeechConfig(subscription=speech_key, region=service_region)\n",
    "    #speech_config.speech_recognition_language=\"en-US\"\n",
    "    speech_config.speech_recognition_language=\"zh-CN\"\n",
    "\n",
    "    # Replace with the path to your audio file\n",
    "    if os.path.exists(audio_file):\n",
    "        # Creates an audio configuration that points to an audio file\n",
    "        audio_config = speechsdk.audio.AudioConfig(filename=audio_file)\n",
    "\n",
    "        # Creates a recognizer with the given settings\n",
    "        speech_recognizer = speechsdk.SpeechRecognizer(speech_config=speech_config, audio_config=audio_config)\n",
    "        print(speech_recognizer)\n",
    "\n",
    "        print(\"Recognizing speech from file...\")\n",
    "        result = speech_recognizer.recognize_once()\n",
    "        if result.reason == speechsdk.ResultReason.RecognizedSpeech:\n",
    "            print(\"Recognized: {}\".format(result.text))\n",
    "        elif result.reason == speechsdk.ResultReason.NoMatch:\n",
    "            print(\"No speech could be recognized: {}\".format(result.no_match_details))\n",
    "        elif result.reason == speechsdk.ResultReason.Canceled:\n",
    "            cancellation_details = result.cancellation_details\n",
    "            print(\"Speech Recognition canceled: {}\".format(cancellation_details.reason))\n",
    "            if cancellation_details.reason == speechsdk.CancellationReason.Error:\n",
    "                print(\"Error details: {}\".format(cancellation_details.error_details))\n",
    "        # Prints the recognized text\n",
    "        print(result.text)\n",
    "\n",
    "        print(\"Recognizing finished\")\n",
    "    else:\n",
    "        print(\"File doesn't exit:\"+ audio_file)\n",
    "\n",
    "#convert_speech_to_text(\"../TedTalk_Bill_Gates.wav\")\n",
    "#convert_speech_to_text(\"./BillGates_2010.wav\")\n",
    "convert_speech_to_text(\"AI_Study.wav\")\n",
    "\n"
   ]
  },
  {
   "cell_type": "markdown",
   "metadata": {},
   "source": [
    "test convert text to speech"
   ]
  },
  {
   "cell_type": "code",
   "execution_count": 8,
   "metadata": {},
   "outputs": [
    {
     "name": "stdout",
     "output_type": "stream",
     "text": [
      "Speech synthesized to speaker for text [I enjoy learning AI with Teacher Louis]\n",
      "Speech synthesized to speaker for text [我喜欢跟着Louis学习AI]\n"
     ]
    }
   ],
   "source": [
    "def convert_text_to_speech(text):\n",
    "    \"\"\"测试把text转换为speech，参数为需要转换的文字\"\"\"\n",
    "    speech_config = speechsdk.SpeechConfig(subscription=speech_key, region=service_region)\n",
    "    speech_config.speech_recognition_language=\"en-US\"\n",
    "    speech_synthesizer = speechsdk.SpeechSynthesizer(speech_config=speech_config)\n",
    "\n",
    "    speech_config.speech_synthesis_language = \"zh-CN\"\n",
    "    speech_synthesizer = speechsdk.SpeechSynthesizer(speech_config=speech_config)\n",
    "    result = speech_synthesizer.speak_text_async(text).get()\n",
    "\n",
    "\n",
    "    if result.reason == speechsdk.ResultReason.SynthesizingAudioCompleted:\n",
    "        print(\"Speech synthesized to speaker for text [{}]\".format(text))\n",
    "    elif result.reason == speechsdk.ResultReason.Canceled:\n",
    "        cancellation_details = result.cancellation_details\n",
    "        print(\"Speech synthesis canceled: {}\".format(cancellation_details.reason))\n",
    "        if cancellation_details.reason == speechsdk.CancellationReason.Error:\n",
    "            if cancellation_details.error_details:\n",
    "                print(\"Error details: {}\".format(cancellation_details.error_details))\n",
    "        print(\"Did you update the subscription info?\")\n",
    "\n",
    "convert_text_to_speech(\"I enjoy learning AI with Teacher Louis\")\n",
    "convert_text_to_speech(\"我喜欢跟着Louis学习AI\")"
   ]
  },
  {
   "cell_type": "code",
   "execution_count": null,
   "metadata": {},
   "outputs": [],
   "source": []
  }
 ],
 "metadata": {
  "kernelspec": {
   "display_name": "azure",
   "language": "python",
   "name": "python3"
  },
  "language_info": {
   "codemirror_mode": {
    "name": "ipython",
    "version": 3
   },
   "file_extension": ".py",
   "mimetype": "text/x-python",
   "name": "python",
   "nbconvert_exporter": "python",
   "pygments_lexer": "ipython3",
   "version": "3.9.18"
  }
 },
 "nbformat": 4,
 "nbformat_minor": 2
}
